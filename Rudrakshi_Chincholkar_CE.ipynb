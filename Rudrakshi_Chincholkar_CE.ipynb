{
  "nbformat": 4,
  "nbformat_minor": 0,
  "metadata": {
    "colab": {
      "provenance": []
    },
    "kernelspec": {
      "name": "python3",
      "display_name": "Python 3"
    },
    "language_info": {
      "name": "python"
    }
  },
  "cells": [
    {
      "cell_type": "markdown",
      "source": [
        "# **Task 1**\n",
        "\n",
        "Your goal is to find the answer of the dot product of the matrices of sizes (2,3), (3,5), (5,2) and (3,3).\n",
        "\n",
        "## **Workflow:**\n",
        "1. Define the matrices of given sizes.\n",
        "2. Print the matrices.\n",
        "3. Use the np.dot function.\n",
        "4. Print the output at each step.\n",
        "5. Print the result.\n",
        "\n",
        "(Print the shape of matrix always with the matrix)\n"
      ],
      "metadata": {
        "id": "6LkPygla_OXh"
      }
    },
    {
      "cell_type": "code",
      "source": [
        "# Import Numpy\n",
        "import numpy as np"
      ],
      "metadata": {
        "id": "Z8iSVv-r_WkT"
      },
      "execution_count": 1,
      "outputs": []
    },
    {
      "cell_type": "code",
      "source": [
        "# Define the 4 matrices as A,B,C,D\n",
        "A = np.random.rand(2,3)\n",
        "B = np.random.rand(3,5)\n",
        "C = np.random.rand(5,2)\n",
        "D = np.random.rand(3,3)"
      ],
      "metadata": {
        "id": "r1pVl7LbA1_I"
      },
      "execution_count": 6,
      "outputs": []
    },
    {
      "cell_type": "code",
      "source": [
        "# Print the 4 matrices\n",
        "print(\"2D Array:\\n\", A)\n",
        "print(np.shape(A))\n",
        "print(\"2D Array:\\n\", B)\n",
        "print(np.shape(B))\n",
        "print(\"2D Array:\\n\", C)\n",
        "print(np.shape(C))\n",
        "print(\"2D Array:\\n\", D)\n",
        "print(np.shape(D))"
      ],
      "metadata": {
        "id": "uJHj_CbhA83b",
        "colab": {
          "base_uri": "https://localhost:8080/"
        },
        "outputId": "3394f593-0749-433c-9105-bbd5b646c5de"
      },
      "execution_count": 9,
      "outputs": [
        {
          "output_type": "stream",
          "name": "stdout",
          "text": [
            "2D Array:\n",
            " [[0.6927518  0.75562243 0.15451474]\n",
            " [0.99839757 0.98425597 0.28084305]]\n",
            "(2, 3)\n",
            "2D Array:\n",
            " [[0.36581969 0.21562138 0.92804726 0.23374438 0.04068582]\n",
            " [0.77011552 0.95704669 0.70712675 0.01510318 0.09363566]\n",
            " [0.84118952 0.6938673  0.92336891 0.84364093 0.1900282 ]]\n",
            "(3, 5)\n",
            "2D Array:\n",
            " [[0.46261948 0.18985522]\n",
            " [0.79786172 0.68483613]\n",
            " [0.11706817 0.36927853]\n",
            " [0.42898211 0.12958623]\n",
            " [0.38311423 0.43201913]]\n",
            "(5, 2)\n",
            "2D Array:\n",
            " [[0.28562344 0.76446125 0.31422671]\n",
            " [0.67756919 0.49819963 0.01335248]\n",
            " [0.0074751  0.06928638 0.08256634]]\n",
            "(3, 3)\n"
          ]
        }
      ]
    },
    {
      "cell_type": "code",
      "source": [
        "# Find the Dot Product of matrices\n",
        "dot_product = np.dot(A, B)\n",
        "print(\"Dot Product of Matrix A and B is \\n\", dot_product)\n",
        "matrix_multipn1 = dot_product\n",
        "dot_product = np.dot(matrix_multipn1, C)\n",
        "print(\"Dot Product of resultant matrix 1 and C is \\n\", dot_product)\n",
        "matrix_multipn2 = dot_product\n",
        "dot_product = np.dot(matrix_multipn2, D)\n",
        "print(\"Dot Product of  resultant Matrix 2 and D is \\n\", dot_product)\n",
        "\n"
      ],
      "metadata": {
        "id": "MDcD7tOWBMzG",
        "colab": {
          "base_uri": "https://localhost:8080/",
          "height": 331
        },
        "outputId": "9617ddb1-ff46-4ed3-a399-df9e7362c284"
      },
      "execution_count": 13,
      "outputs": [
        {
          "output_type": "stream",
          "name": "stdout",
          "text": [
            "Dot Product of Matrix A and B is \n",
            " [[0.96531499 0.97975077 1.31990134 0.3036941  0.12830054]\n",
            " [1.35946652 1.35212259 1.88187559 0.48516591 0.18615018]]\n",
            "Dot Product of resultant matrix 1 and C is \n",
            " [[1.56223067 1.4364329 ]\n",
            " [2.20747455 2.02231173]]\n"
          ]
        },
        {
          "output_type": "error",
          "ename": "ValueError",
          "evalue": "shapes (2,2) and (3,3) not aligned: 2 (dim 1) != 3 (dim 0)",
          "traceback": [
            "\u001b[0;31m---------------------------------------------------------------------------\u001b[0m",
            "\u001b[0;31mValueError\u001b[0m                                Traceback (most recent call last)",
            "\u001b[0;32m<ipython-input-13-f5eaabf1a452>\u001b[0m in \u001b[0;36m<cell line: 0>\u001b[0;34m()\u001b[0m\n\u001b[1;32m      6\u001b[0m \u001b[0mprint\u001b[0m\u001b[0;34m(\u001b[0m\u001b[0;34m\"Dot Product of resultant matrix 1 and C is \\n\"\u001b[0m\u001b[0;34m,\u001b[0m \u001b[0mdot_product\u001b[0m\u001b[0;34m)\u001b[0m\u001b[0;34m\u001b[0m\u001b[0;34m\u001b[0m\u001b[0m\n\u001b[1;32m      7\u001b[0m \u001b[0mmatrix_multipn2\u001b[0m \u001b[0;34m=\u001b[0m \u001b[0mdot_product\u001b[0m\u001b[0;34m\u001b[0m\u001b[0;34m\u001b[0m\u001b[0m\n\u001b[0;32m----> 8\u001b[0;31m \u001b[0mdot_product\u001b[0m \u001b[0;34m=\u001b[0m \u001b[0mnp\u001b[0m\u001b[0;34m.\u001b[0m\u001b[0mdot\u001b[0m\u001b[0;34m(\u001b[0m\u001b[0mmatrix_multipn2\u001b[0m\u001b[0;34m,\u001b[0m \u001b[0mD\u001b[0m\u001b[0;34m)\u001b[0m\u001b[0;34m\u001b[0m\u001b[0;34m\u001b[0m\u001b[0m\n\u001b[0m\u001b[1;32m      9\u001b[0m \u001b[0mprint\u001b[0m\u001b[0;34m(\u001b[0m\u001b[0;34m\"Dot Product of  resultant Matrix 2 and D is \\n\"\u001b[0m\u001b[0;34m,\u001b[0m \u001b[0mdot_product\u001b[0m\u001b[0;34m)\u001b[0m\u001b[0;34m\u001b[0m\u001b[0;34m\u001b[0m\u001b[0m\n\u001b[1;32m     10\u001b[0m \u001b[0;34m\u001b[0m\u001b[0m\n",
            "\u001b[0;31mValueError\u001b[0m: shapes (2,2) and (3,3) not aligned: 2 (dim 1) != 3 (dim 0)"
          ]
        }
      ]
    },
    {
      "cell_type": "markdown",
      "source": [
        "# ValueError: shapes (2,2) and (3,3) not aligned: 2 (dim 1) != 3 (dim 0)\n",
        "\n",
        "Now the task is to define a function named is_compatible() that takes 2 matrices as input and only allows the dot product if the condition number of **columns** in the first matrix (A) matches the number of **rows** in the second matrix (B).\n",
        "\n",
        "Print the ouput if condition is satisfied\n",
        "Else print \"Dimension Error!!\"\n",
        "\n",
        "\n"
      ],
      "metadata": {
        "id": "Rv1D09dyB0eP"
      }
    },
    {
      "cell_type": "code",
      "source": [
        "def is_compatible(A, B):\n",
        "  if A.shape[1]==B.shape[0]:\n",
        "    dot_product = np.dot(A, B)\n",
        "    print(\"Dot Product of Matrix A and B is \\n\", dot_product)\n",
        "\n",
        "  else:\n",
        "    print(\"Dimensional Error !!\")"
      ],
      "metadata": {
        "id": "RmS0xS8tCjNC"
      },
      "execution_count": 14,
      "outputs": []
    },
    {
      "cell_type": "code",
      "source": [
        "# Find Dot product only if the matrices are compatible\n",
        "is_compatible(A, B)\n",
        "is_compatible(matrix_multipn1, C)\n",
        "is_compatible(matrix_multipn2, D)"
      ],
      "metadata": {
        "id": "ds0XYSZ6E9nl",
        "colab": {
          "base_uri": "https://localhost:8080/"
        },
        "outputId": "9a0c9300-425f-4e04-aa39-5c72cbe0a190"
      },
      "execution_count": 16,
      "outputs": [
        {
          "output_type": "stream",
          "name": "stdout",
          "text": [
            "Dot Product of Matrix A and B is \n",
            " [[0.96531499 0.97975077 1.31990134 0.3036941  0.12830054]\n",
            " [1.35946652 1.35212259 1.88187559 0.48516591 0.18615018]]\n",
            "Dot Product of Matrix A and B is \n",
            " [[1.56223067 1.4364329 ]\n",
            " [2.20747455 2.02231173]]\n",
            "Dimensional Error !!\n"
          ]
        }
      ]
    },
    {
      "cell_type": "markdown",
      "source": [
        "# **Task 2**\n",
        "\n",
        "Your goal is to define a function that simulates a number-guessing game called \"Up-Down.\" The function, named up_down, should take an integer rounds as input, representing the number of turns the player gets.\n",
        "\n",
        "Game Rules:\n",
        "\n",
        "1. The player inputs a number between 1 and 12 for each round.\n",
        "2. The computer randomly selects a number between 1 and 12.\n",
        "3. The scoring system is as follows:\n",
        "  \n",
        "  a. If computer's guess is less than 7 and the player gains points equivalent to their guess if their guess is also less than 7, otherwise, they lose points equivalent to their guess.\n",
        "  \n",
        "  b. If computer's guess is exactly 7, the player gains 14 points if thier guess is 7, otherwise, they lose points equivalent to their guess.\n",
        "  \n",
        "  c. If computer's guess is greater than 7 and the player gains points equivalent to their guess if their guess is also greater than 7, otherwise, they lose points equivalent to their guess.\n",
        "\n",
        "4. The game continues until:\n",
        "\n",
        "  a. The player reaches more than 30 points, they win.\n",
        "\n",
        "  b. The player reaches less than -30 points, they lose.\n",
        "\n",
        "  c. The maximum number of rounds is reached.\n",
        "  \n",
        "At the end of the game, the function should print the final score.\n",
        "\n",
        "Your task is to implement this function in Python using the given rules."
      ],
      "metadata": {
        "id": "SR_JeHeEdWOX"
      }
    },
    {
      "cell_type": "code",
      "source": [
        "def up_down(rounds):\n",
        "  pass"
      ],
      "metadata": {
        "id": "0fxnUDma7aPx"
      },
      "execution_count": null,
      "outputs": []
    }
  ]
}